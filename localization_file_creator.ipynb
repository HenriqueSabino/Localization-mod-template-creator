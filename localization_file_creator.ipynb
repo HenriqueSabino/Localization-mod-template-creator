{
 "cells": [
  {
   "cell_type": "code",
   "execution_count": null,
   "metadata": {},
   "outputs": [],
   "source": [
    "import glob\n",
    "import pandas as pd\n",
    "import json\n",
    "\n",
    "mod_template = open(\"./ModTemplate.template\", \"r\", encoding=\"utf-8\")\n",
    "\n",
    "mod_class_name = input(\"Enter the desired class name: \")\n",
    "mod_guid = input(\"Enter the desired mod GUID: \")\n",
    "mod_title = input(\"Enter the desired mod title: \")\n",
    "mod_description = input(\"Enter the desired mod description: \")\n",
    "\n",
    "template_text = \"\".join(mod_template.readlines())\n",
    "\n",
    "output_text = template_text.replace(\"{mod_class_name}\", mod_class_name)\n",
    "output_text = output_text.replace(\"{mod_guid}\", mod_guid)\n",
    "output_text = output_text.replace(\"{mod_title}\", mod_title)\n",
    "output_text = output_text.replace(\"{mod_description}\", mod_description)\n",
    "\n",
    "translation_files = glob.glob(\"*.csv\")\n",
    "translation_tables = [x.split('.')[0] for x in translation_files]\n",
    "\n",
    "localization_methods_calls = \"\"\n",
    "for file in translation_tables:\n",
    "    file_no_spaces = file.replace(\" \", \"\")\n",
    "    localization_methods_calls += f\"this.Set{file_no_spaces}Localizations();\\n            \"\n",
    "\n",
    "output_text = output_text.replace(\"{localization_methods_calls}\", localization_methods_calls.strip())\n",
    "\n",
    "localization_methods = \"\"\n",
    "for file in translation_files:\n",
    "    translation = pd.read_csv(f\"./{file}\")\n",
    "\n",
    "    file_no_extension = file.split(\".\")[0]\n",
    "    file_no_spaces = file_no_extension.replace(\" \", \"\")\n",
    "\n",
    "    localization_methods += f\"private void Set{file_no_spaces}Localizations()\\n        \"\n",
    "    localization_methods += \"{\\n            \"\n",
    "    localization_methods += f\"var table = LocalizationHelper.GetCollection(\\\"{file_no_extension}\\\", ModLanguage);\\n            \"\n",
    "    localization_methods += \"\\n            \"\n",
    "\n",
    "    for entry in translation.itertuples():\n",
    "        localization_methods += f\"table.AddEntry(\\\"{entry.Key}\\\", {json.dumps(entry.Value)});\\n            \"\n",
    "\n",
    "    localization_methods = localization_methods.strip() + \"\\n        }\\n\\n        \"\n",
    "\n",
    "output_text = output_text.replace(\"{localization_methods}\", localization_methods.strip()).strip()\n",
    "\n",
    "output_file = open(f\"./{mod_class_name}.cs\", \"w\", encoding=\"utf-8\")\n",
    "output_file.write(output_text)"
   ]
  }
 ],
 "metadata": {
  "language_info": {
   "name": "python"
  }
 },
 "nbformat": 4,
 "nbformat_minor": 2
}
