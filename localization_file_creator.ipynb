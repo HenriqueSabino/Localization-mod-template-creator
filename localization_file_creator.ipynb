{
    "cells": [
        {
            "cell_type": "code",
            "execution_count": null,
            "metadata": {},
            "outputs": [],
            "source": [
                "!wget https://raw.githubusercontent.com/HenriqueSabino/Localization-mod-template-creator/main/ModTemplate.template"
            ]
        },
        {
            "cell_type": "markdown",
            "metadata": {},
            "source": [
                "#### Creating the main mod file"
            ]
        },
        {
            "cell_type": "code",
            "execution_count": 7,
            "metadata": {},
            "outputs": [],
            "source": [
                "import glob\n",
                "import pandas as pd\n",
                "import json\n",
                "import os\n",
                "\n",
                "mod_template = open(\"./ModTemplate.template\", \"r\", encoding=\"utf-8\")\n",
                "\n",
                "mod_class_name = input(\"Enter the desired class name: \")\n",
                "mod_guid = input(\"Enter the desired mod GUID: \")\n",
                "mod_title = input(\"Enter the desired mod title: \")\n",
                "mod_description = input(\"Enter the desired mod description: \")\n",
                "\n",
                "template_text = \"\".join(mod_template.readlines())\n",
                "mod_template.close()\n",
                "\n",
                "output_text = template_text.replace(\"{mod_class_name}\", mod_class_name)\n",
                "output_text = output_text.replace(\"{mod_guid}\", mod_guid)\n",
                "output_text = output_text.replace(\"{mod_title}\", mod_title)\n",
                "output_text = output_text.replace(\"{mod_description}\", mod_description)\n",
                "\n",
                "translation_files = glob.glob(\"*.csv\")\n",
                "translation_tables = [x.split('.')[0] for x in translation_files]\n",
                "\n",
                "localization_methods_calls = \"\"\n",
                "for file in translation_tables:\n",
                "    file_no_spaces = file.replace(\" \", \"\")\n",
                "    localization_methods_calls += f\"this.Set{file_no_spaces}Localizations();\\n            \"\n",
                "\n",
                "output_text = output_text.replace(\"{localization_methods_calls}\", localization_methods_calls.strip())\n",
                "\n",
                "localization_methods = \"\"\n",
                "for file in translation_files:\n",
                "    translation = pd.read_csv(f\"./{file}\")\n",
                "\n",
                "    file_no_extension = file.split(\".\")[0]\n",
                "    file_no_spaces = file_no_extension.replace(\" \", \"\")\n",
                "\n",
                "    localization_methods += f\"private void Set{file_no_spaces}Localizations()\\n        \"\n",
                "    localization_methods += \"{\\n            \"\n",
                "    localization_methods += f\"var table = LocalizationHelper.GetCollection(\\\"{file_no_extension}\\\", ModLanguage);\\n            \"\n",
                "    localization_methods += \"\\n            \"\n",
                "\n",
                "    for entry in translation.itertuples():\n",
                "\n",
                "        localized_text = json.dumps(entry.Value, ensure_ascii=False)\n",
                "\n",
                "        if localized_text == \"NaN\":\n",
                "            localized_text = \"string.Empty\"\n",
                "\n",
                "        localization_methods += f\"table.AddEntry(\\\"{entry.Key}\\\", {localized_text});\\n            \"\n",
                "\n",
                "    localization_methods = localization_methods.strip() + \"\\n        }\\n\\n        \"\n",
                "\n",
                "output_text = output_text.replace(\"{localization_methods}\", localization_methods.strip()).strip()\n",
                "\n",
                "try:\n",
                "    os.mkdir(\"./out\")\n",
                "except:\n",
                "    print(\"out folder already exists\")\n",
                "\n",
                "output_file = open(f\"./out/{mod_class_name}.cs\", \"w\", encoding=\"utf-8\")\n",
                "output_file.write(output_text)\n",
                "output_file.close()"
            ]
        },
        {
            "cell_type": "markdown",
            "metadata": {},
            "source": [
                "#### Creating the patches"
            ]
        },
        {
            "cell_type": "code",
            "execution_count": 8,
            "metadata": {},
            "outputs": [
                {
                    "name": "stdout",
                    "output_type": "stream",
                    "text": [
                        "ChineseCollectionPatch.template\n",
                        "ClassesGetterPatch.template\n",
                        "LocalizerFormatterPatch.template\n",
                        "SpriteGlyphPatch.template\n"
                    ]
                }
            ],
            "source": [
                "patch_files = glob.glob(\"*Patch.template\")\n",
                "\n",
                "try:\n",
                "    os.mkdir(\"./out/Patches\")\n",
                "except:\n",
                "    print(\"Patches folder already created\")\n",
                "\n",
                "for patch in patch_files:\n",
                "\n",
                "    patch_template = open(patch, \"r\", encoding=\"utf-8\")\n",
                "    patch_text = template_text = \"\".join(patch_template.readlines())\n",
                "    patch_text = patch_text.replace(\"{mod_class_name}\", mod_class_name)\n",
                "\n",
                "    patch_template.close()\n",
                "\n",
                "    patch_name = patch.replace(\"template\", \"cs\")\n",
                "    patch_output = open(f\"./out/Patches/{patch_name}\", \"w\", encoding=\"utf-8\")\n",
                "    patch_output.write(patch_text)\n",
                "    patch_output.close()\n",
                "\n",
                "    "
            ]
        }
    ],
    "metadata": {
        "kernelspec": {
            "display_name": "Python 3",
            "language": "python",
            "name": "python3"
        },
        "language_info": {
            "codemirror_mode": {
                "name": "ipython",
                "version": 3
            },
            "file_extension": ".py",
            "mimetype": "text/x-python",
            "name": "python",
            "nbconvert_exporter": "python",
            "pygments_lexer": "ipython3",
            "version": "3.12.1"
        }
    },
    "nbformat": 4,
    "nbformat_minor": 2
}
